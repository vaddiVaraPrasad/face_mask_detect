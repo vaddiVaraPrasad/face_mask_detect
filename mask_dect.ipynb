{
 "cells": [
  {
   "cell_type": "code",
   "execution_count": 1,
   "id": "732f1bad",
   "metadata": {},
   "outputs": [],
   "source": [
    "import pandas as pd\n",
    "import numpy as np\n",
    "import cv2 as cv\n",
    "import os \n",
    "import h5py\n",
    "\n",
    "train_mask_path = \"Face Mask Dataset\\Train\\WithMask\"\n",
    "train_withOut_Mask_path = \"Face Mask Dataset\\Train\\WithoutMask\"\n",
    "test_mask_path = \"Face Mask Dataset\\Test\\WithMask\"\n",
    "test_withOut_mask_path = \"Face Mask Dataset\\Test\\WithoutMask\"\n",
    "train_mask_lst = []\n",
    "train_withOut_mask_lst = []\n",
    "test_mask_lst = []\n",
    "test_withOut_mask_lst = []"
   ]
  },
  {
   "cell_type": "code",
   "execution_count": 2,
   "id": "3e2f5de0",
   "metadata": {},
   "outputs": [
    {
     "name": "stdout",
     "output_type": "stream",
     "text": [
      "(5000, 27, 27, 3)\n"
     ]
    }
   ],
   "source": [
    "for pics in os.listdir(train_mask_path):\n",
    "    img = cv.imread(os.path.join(train_mask_path,pics))\n",
    "    img_resize = cv.resize(img,(27,27),interpolation=cv.INTER_CUBIC)\n",
    "    img_resize = img_resize / 255\n",
    "    train_mask_lst.append(img_resize)\n",
    "train_mask_np = np.array(train_mask_lst)\n",
    "print(train_mask_np.shape)"
   ]
  },
  {
   "cell_type": "code",
   "execution_count": 3,
   "id": "0d4cfd95",
   "metadata": {},
   "outputs": [
    {
     "name": "stdout",
     "output_type": "stream",
     "text": [
      "(5000, 27, 27, 3)\n"
     ]
    }
   ],
   "source": [
    "for pics in os.listdir(train_withOut_Mask_path):\n",
    "    img = cv.imread(os.path.join(train_withOut_Mask_path,pics))\n",
    "    img_resize = cv.resize(img,(27,27),interpolation=cv.INTER_CUBIC)\n",
    "    img_resize = img_resize / 255\n",
    "    train_withOut_mask_lst.append(img_resize)\n",
    "train_withOut_mask_np = np.array(train_withOut_mask_lst)\n",
    "print(train_withOut_mask_np.shape)"
   ]
  },
  {
   "cell_type": "code",
   "execution_count": 4,
   "id": "ff84a566",
   "metadata": {},
   "outputs": [
    {
     "name": "stdout",
     "output_type": "stream",
     "text": [
      "(483, 27, 27, 3)\n"
     ]
    }
   ],
   "source": [
    "for pics in os.listdir(test_mask_path):\n",
    "    img = cv.imread(os.path.join(test_mask_path,pics))\n",
    "    img_resize = cv.resize(img,(27,27),interpolation=cv.INTER_CUBIC)\n",
    "    img_resize = img_resize / 255\n",
    "    test_mask_lst.append(img_resize)\n",
    "test_mask_np = np.array(test_mask_lst)\n",
    "print(test_mask_np.shape)"
   ]
  },
  {
   "cell_type": "code",
   "execution_count": 5,
   "id": "f4082117",
   "metadata": {},
   "outputs": [
    {
     "name": "stdout",
     "output_type": "stream",
     "text": [
      "(509, 27, 27, 3)\n"
     ]
    }
   ],
   "source": [
    "for pics in os.listdir(test_withOut_mask_path):\n",
    "    img = cv.imread(os.path.join(test_withOut_mask_path,pics))\n",
    "    img_resize = cv.resize(img,(27,27),interpolation=cv.INTER_CUBIC)\n",
    "    img_resize = img_resize / 255\n",
    "    test_withOut_mask_lst.append(img_resize)\n",
    "test_withOut_mask_np = np.array(test_withOut_mask_lst)\n",
    "print(test_withOut_mask_np.shape)\n"
   ]
  },
  {
   "cell_type": "code",
   "execution_count": 6,
   "id": "fede1bfa",
   "metadata": {},
   "outputs": [],
   "source": [
    "# np.save(\"./TrainwithMask.npy\",train_mask_np)\n",
    "# np.save(\"./TrainWithOutMask.npy\",train_withOut_mask_np)\n",
    "# np.save(\"./TestWithMask.npy\",test_mask_np)\n",
    "# np.save(\"./TestWithOutMask.npy\",test_withOut_mask_np)"
   ]
  },
  {
   "cell_type": "code",
   "execution_count": 7,
   "id": "746dd039",
   "metadata": {},
   "outputs": [
    {
     "name": "stdout",
     "output_type": "stream",
     "text": [
      "(5000, 27, 27, 3)\n",
      "(5000, 27, 27, 3)\n",
      "(483, 27, 27, 3)\n",
      "(509, 27, 27, 3)\n"
     ]
    }
   ],
   "source": [
    "print(train_mask_np.shape)\n",
    "print(train_withOut_mask_np.shape)\n",
    "print(test_mask_np.shape)\n",
    "print(test_withOut_mask_np.shape)\n"
   ]
  },
  {
   "cell_type": "code",
   "execution_count": 8,
   "id": "a9410ce9",
   "metadata": {},
   "outputs": [],
   "source": [
    "dir_label_name = {0:\"WithOut_Mask\",\n",
    "                 1 : \"With_Mask\"}\n",
    "label_train_withOut = np.ones(train_mask_np.shape[0])  *  0\n",
    "label_train_with = np.ones(train_withOut_mask_np.shape[0]) * 1\n",
    "label_test_withOut = np.ones(test_mask_np.shape[0]) * 0\n",
    "label_test_with = np.ones(test_withOut_mask_np.shape[0]) * 1"
   ]
  },
  {
   "cell_type": "code",
   "execution_count": 9,
   "id": "7e920b31",
   "metadata": {},
   "outputs": [],
   "source": [
    "x_train = np.concatenate((train_mask_np,train_withOut_mask_np),axis=0)\n",
    "y_train = np.concatenate((label_train_with,label_train_withOut),axis=0)\n",
    "x_test = np.concatenate((test_mask_np,test_withOut_mask_np),axis=0)\n",
    "y_test = np.concatenate((label_test_with,label_test_withOut),axis=0)"
   ]
  },
  {
   "cell_type": "code",
   "execution_count": 10,
   "id": "46c84b9c",
   "metadata": {},
   "outputs": [
    {
     "data": {
      "text/plain": [
       "((10000, 27, 27, 3), (10000,), (992, 27, 27, 3), (992,))"
      ]
     },
     "execution_count": 10,
     "metadata": {},
     "output_type": "execute_result"
    }
   ],
   "source": [
    "x_train.shape , y_train.shape , x_test.shape , y_test.shape"
   ]
  },
  {
   "cell_type": "code",
   "execution_count": 11,
   "id": "e4b88729",
   "metadata": {},
   "outputs": [],
   "source": [
    "import tensorflow as tf"
   ]
  },
  {
   "cell_type": "code",
   "execution_count": 12,
   "id": "cfc95a18",
   "metadata": {},
   "outputs": [],
   "source": [
    "model = tf.keras.Sequential([\n",
    "    tf.keras.layers.Conv2D(filters=16,kernel_size=(3,3),padding=\"same\",activation=\"relu\"),\n",
    "    tf.keras.layers.MaxPool2D(),\n",
    "    tf.keras.layers.Conv2D(filters=32,kernel_size=(3,3),padding=\"same\",activation=\"relu\"),\n",
    "    tf.keras.layers.MaxPool2D(),\n",
    "    tf.keras.layers.Conv2D(filters=64,kernel_size=(3,3),padding=\"same\",activation=\"relu\"),\n",
    "    tf.keras.layers.MaxPool2D(),\n",
    "    tf.keras.layers.Flatten(),\n",
    "    tf.keras.layers.Dense(130,activation=\"relu\"),\n",
    "    tf.keras.layers.Dropout(.5),\n",
    "    tf.keras.layers.Dense(50,activation=\"relu\"),\n",
    "    tf.keras.layers.Dropout(.3),\n",
    "    tf.keras.layers.Dense(15,activation=\"relu\"),\n",
    "    tf.keras.layers.Dropout(.3),\n",
    "    tf.keras.layers.Dense(1,activation=\"sigmoid\"),\n",
    "])\n",
    "model.compile(optimizer=\"adam\",loss = tf.keras.losses.binary_crossentropy,metrics=[\"accuracy\"])"
   ]
  },
  {
   "cell_type": "code",
   "execution_count": 13,
   "id": "8d0eb081",
   "metadata": {},
   "outputs": [
    {
     "name": "stdout",
     "output_type": "stream",
     "text": [
      "Epoch 1/50\n",
      "313/313 [==============================] - 6s 16ms/step - loss: 0.2897 - accuracy: 0.8753\n",
      "Epoch 2/50\n",
      "313/313 [==============================] - 6s 19ms/step - loss: 0.0871 - accuracy: 0.9734\n",
      "Epoch 3/50\n",
      "313/313 [==============================] - 6s 19ms/step - loss: 0.0484 - accuracy: 0.9856\n",
      "Epoch 4/50\n",
      "313/313 [==============================] - 6s 19ms/step - loss: 0.0431 - accuracy: 0.9864\n",
      "Epoch 5/50\n",
      "313/313 [==============================] - 6s 19ms/step - loss: 0.0343 - accuracy: 0.9903\n",
      "Epoch 6/50\n",
      "313/313 [==============================] - 6s 19ms/step - loss: 0.0339 - accuracy: 0.9891\n",
      "Epoch 7/50\n",
      "313/313 [==============================] - 4s 14ms/step - loss: 0.0228 - accuracy: 0.9932\n",
      "Epoch 8/50\n",
      "313/313 [==============================] - 5s 15ms/step - loss: 0.0230 - accuracy: 0.9930\n",
      "Epoch 9/50\n",
      "313/313 [==============================] - 5s 15ms/step - loss: 0.0238 - accuracy: 0.9920\n",
      "Epoch 10/50\n",
      "313/313 [==============================] - 4s 14ms/step - loss: 0.0225 - accuracy: 0.9936\n",
      "Epoch 11/50\n",
      "313/313 [==============================] - 5s 15ms/step - loss: 0.0119 - accuracy: 0.9962\n",
      "Epoch 12/50\n",
      "313/313 [==============================] - 4s 14ms/step - loss: 0.0230 - accuracy: 0.9930\n",
      "Epoch 13/50\n",
      "313/313 [==============================] - 6s 18ms/step - loss: 0.0144 - accuracy: 0.9967\n",
      "Epoch 14/50\n",
      "313/313 [==============================] - 4s 14ms/step - loss: 0.0154 - accuracy: 0.9951\n",
      "Epoch 15/50\n",
      "313/313 [==============================] - 5s 15ms/step - loss: 0.0071 - accuracy: 0.9983\n",
      "Epoch 16/50\n",
      "313/313 [==============================] - 4s 14ms/step - loss: 0.0186 - accuracy: 0.9936\n",
      "Epoch 17/50\n",
      "313/313 [==============================] - 4s 14ms/step - loss: 0.0138 - accuracy: 0.9959\n",
      "Epoch 18/50\n",
      "313/313 [==============================] - 4s 14ms/step - loss: 0.0121 - accuracy: 0.9964\n",
      "Epoch 19/50\n",
      "313/313 [==============================] - 4s 14ms/step - loss: 0.0152 - accuracy: 0.9951\n",
      "Epoch 20/50\n",
      "313/313 [==============================] - 4s 14ms/step - loss: 0.0144 - accuracy: 0.9953\n",
      "Epoch 21/50\n",
      "313/313 [==============================] - 5s 15ms/step - loss: 0.0059 - accuracy: 0.9988\n",
      "Epoch 22/50\n",
      "313/313 [==============================] - 4s 14ms/step - loss: 0.0105 - accuracy: 0.9964\n",
      "Epoch 23/50\n",
      "313/313 [==============================] - 4s 14ms/step - loss: 0.0107 - accuracy: 0.9968\n",
      "Epoch 24/50\n",
      "313/313 [==============================] - 5s 15ms/step - loss: 0.0038 - accuracy: 0.9986\n",
      "Epoch 25/50\n",
      "313/313 [==============================] - 4s 14ms/step - loss: 0.0048 - accuracy: 0.9989\n",
      "Epoch 26/50\n",
      "313/313 [==============================] - 4s 14ms/step - loss: 6.5247e-04 - accuracy: 0.9998\n",
      "Epoch 27/50\n",
      "313/313 [==============================] - 5s 15ms/step - loss: 0.0260 - accuracy: 0.9919\n",
      "Epoch 28/50\n",
      "313/313 [==============================] - 5s 15ms/step - loss: 0.0131 - accuracy: 0.9956\n",
      "Epoch 29/50\n",
      "313/313 [==============================] - 5s 15ms/step - loss: 0.0101 - accuracy: 0.9962\n",
      "Epoch 30/50\n",
      "313/313 [==============================] - 5s 16ms/step - loss: 0.0056 - accuracy: 0.9982\n",
      "Epoch 31/50\n",
      "313/313 [==============================] - 4s 14ms/step - loss: 0.0073 - accuracy: 0.9978\n",
      "Epoch 32/50\n",
      "313/313 [==============================] - 5s 15ms/step - loss: 0.0062 - accuracy: 0.9979\n",
      "Epoch 33/50\n",
      "313/313 [==============================] - 5s 17ms/step - loss: 0.0125 - accuracy: 0.9957\n",
      "Epoch 34/50\n",
      "313/313 [==============================] - 5s 16ms/step - loss: 0.0075 - accuracy: 0.9985\n",
      "Epoch 35/50\n",
      "313/313 [==============================] - 4s 14ms/step - loss: 0.0098 - accuracy: 0.9978\n",
      "Epoch 36/50\n",
      "313/313 [==============================] - 5s 15ms/step - loss: 0.0060 - accuracy: 0.9981\n",
      "Epoch 37/50\n",
      "313/313 [==============================] - 5s 16ms/step - loss: 7.0487e-04 - accuracy: 1.0000\n",
      "Epoch 38/50\n",
      "313/313 [==============================] - 5s 15ms/step - loss: 5.3484e-04 - accuracy: 0.9996\n",
      "Epoch 39/50\n",
      "313/313 [==============================] - 4s 14ms/step - loss: 0.0103 - accuracy: 0.9968\n",
      "Epoch 40/50\n",
      "313/313 [==============================] - 5s 15ms/step - loss: 0.0130 - accuracy: 0.9967\n",
      "Epoch 41/50\n",
      "313/313 [==============================] - 4s 14ms/step - loss: 0.0030 - accuracy: 0.9988\n",
      "Epoch 42/50\n",
      "313/313 [==============================] - 6s 18ms/step - loss: 0.0109 - accuracy: 0.9969\n",
      "Epoch 43/50\n",
      "313/313 [==============================] - 7s 24ms/step - loss: 0.0127 - accuracy: 0.9960\n",
      "Epoch 44/50\n",
      "313/313 [==============================] - 11s 34ms/step - loss: 0.0016 - accuracy: 0.9996\n",
      "Epoch 45/50\n",
      "313/313 [==============================] - 9s 30ms/step - loss: 0.0075 - accuracy: 0.9985\n",
      "Epoch 46/50\n",
      "313/313 [==============================] - 8s 24ms/step - loss: 0.0062 - accuracy: 0.9984\n",
      "Epoch 47/50\n",
      "313/313 [==============================] - 7s 24ms/step - loss: 6.7492e-04 - accuracy: 0.9999\n",
      "Epoch 48/50\n",
      "313/313 [==============================] - 10s 33ms/step - loss: 3.1179e-04 - accuracy: 0.9999\n",
      "Epoch 49/50\n",
      "313/313 [==============================] - 9s 28ms/step - loss: 5.7195e-04 - accuracy: 0.9997\n",
      "Epoch 50/50\n",
      "313/313 [==============================] - 7s 22ms/step - loss: 0.0222 - accuracy: 0.9950\n"
     ]
    },
    {
     "data": {
      "text/plain": [
       "<keras.callbacks.History at 0x1c116c1fe20>"
      ]
     },
     "execution_count": 13,
     "metadata": {},
     "output_type": "execute_result"
    }
   ],
   "source": [
    "model.fit(x_train,y_train,epochs=50)"
   ]
  },
  {
   "cell_type": "code",
   "execution_count": 14,
   "id": "9a2f4ad9",
   "metadata": {},
   "outputs": [
    {
     "name": "stdout",
     "output_type": "stream",
     "text": [
      "31/31 [==============================] - 0s 6ms/step - loss: 0.3215 - accuracy: 0.9657\n"
     ]
    },
    {
     "data": {
      "text/plain": [
       "[0.3215019404888153, 0.9657257795333862]"
      ]
     },
     "execution_count": 14,
     "metadata": {},
     "output_type": "execute_result"
    }
   ],
   "source": [
    "model.evaluate(x_test,y_test)"
   ]
  },
  {
   "cell_type": "code",
   "execution_count": 15,
   "id": "5a4edf50",
   "metadata": {},
   "outputs": [],
   "source": [
    "# tf.keras.models.save_model(model,\"face_mask_model\")"
   ]
  },
  {
   "cell_type": "code",
   "execution_count": 16,
   "id": "553fa948",
   "metadata": {},
   "outputs": [],
   "source": [
    "model.save(\"face_mask_model.h5\")"
   ]
  },
  {
   "cell_type": "code",
   "execution_count": 17,
   "id": "59523f6a",
   "metadata": {},
   "outputs": [
    {
     "name": "stdout",
     "output_type": "stream",
     "text": [
      "31/31 [==============================] - 0s 6ms/step - loss: 0.3215 - accuracy: 0.9657\n"
     ]
    },
    {
     "data": {
      "text/plain": [
       "[0.3215019404888153, 0.9657257795333862]"
      ]
     },
     "execution_count": 17,
     "metadata": {},
     "output_type": "execute_result"
    }
   ],
   "source": [
    "model_2 = tf.keras.models.load_model(\"face_mask_model.h5\")\n",
    "model_2.evaluate(x_test,y_test)"
   ]
  },
  {
   "cell_type": "code",
   "execution_count": 18,
   "id": "763e185c",
   "metadata": {},
   "outputs": [
    {
     "data": {
      "text/plain": [
       "0.0"
      ]
     },
     "execution_count": 18,
     "metadata": {},
     "output_type": "execute_result"
    }
   ],
   "source": [
    "predct = model_2.predict(x_test)\n",
    "predct = np.reshape(predct,(predct.shape[0]))\n",
    "predct[790].round()"
   ]
  },
  {
   "cell_type": "code",
   "execution_count": 19,
   "id": "c168c30e",
   "metadata": {},
   "outputs": [
    {
     "data": {
      "text/plain": [
       "0.0"
      ]
     },
     "execution_count": 19,
     "metadata": {},
     "output_type": "execute_result"
    }
   ],
   "source": [
    "y_test[790]"
   ]
  },
  {
   "cell_type": "code",
   "execution_count": 20,
   "id": "b82e14e0",
   "metadata": {},
   "outputs": [
    {
     "data": {
      "text/plain": [
       "array([1., 1., 1., 1., 1., 1., 1., 1., 1., 1., 1., 1., 1., 1., 1., 1., 1.,\n",
       "       1., 1., 1., 1., 1., 1., 1., 1., 1., 1., 1., 1., 1., 1., 1., 1., 1.,\n",
       "       1., 1., 1., 1., 1., 1., 1., 1., 1., 1., 1., 1., 1., 1., 0., 1., 1.,\n",
       "       1., 1., 1., 1., 1., 0., 1., 1., 1., 1., 1., 1., 1., 1., 1., 1., 1.,\n",
       "       1., 1., 1., 1., 1., 1., 1., 1., 0., 1., 1., 1., 1., 1., 1., 1., 1.,\n",
       "       1., 1., 1., 1., 1., 1., 1., 1., 1., 1., 1., 1., 1., 1., 1., 1., 1.,\n",
       "       1., 1., 1., 1., 1., 1., 1., 1., 1., 1., 1., 1., 1., 1., 1., 1., 1.,\n",
       "       1., 1., 1., 1., 1., 1., 1., 1., 1., 1., 1., 1., 1., 1., 1., 1., 1.,\n",
       "       1., 1., 1., 1., 1., 1., 1., 1., 1., 1., 1., 1., 1., 1., 1., 1., 1.,\n",
       "       1., 1., 1., 1., 1., 1., 1., 1., 1., 1., 1., 1., 1., 1., 1., 1., 1.,\n",
       "       1., 1., 1., 1., 1., 1., 1., 1., 1., 1., 1., 1., 1., 1., 1., 1., 1.,\n",
       "       1., 1., 1., 1., 1., 1., 1., 1., 1., 1., 1., 1., 1., 1., 1., 1., 1.,\n",
       "       1., 1., 1., 1., 1., 1., 1., 1., 1., 1., 1., 1., 1., 1., 1., 1., 1.,\n",
       "       1., 1., 1., 1., 1., 1., 1., 1., 1., 1., 1., 1., 1., 1., 1., 1., 1.,\n",
       "       1., 1., 1., 1., 1., 1., 1., 1., 1., 1., 1., 1., 1., 1., 1., 1., 1.,\n",
       "       1., 1., 1., 1., 1., 1., 1., 1., 1., 1., 1., 1., 1., 1., 1., 1., 1.,\n",
       "       1., 1., 1., 1., 1., 1., 1., 1., 1., 1., 1., 1., 1., 1., 1., 1., 1.,\n",
       "       1., 1., 1., 1., 1., 1., 1., 1., 1., 1., 1., 1., 1., 1., 1., 1., 1.,\n",
       "       1., 1., 1., 1., 1., 1., 1., 1., 1., 1., 1., 1., 1., 1., 1., 1., 1.,\n",
       "       1., 1., 1., 1., 1., 1., 1., 1., 1., 1., 1., 1., 1., 1., 1., 1., 1.,\n",
       "       1., 1., 1., 1., 1., 1., 1., 1., 1., 1., 1., 1., 1., 1., 1., 1., 1.,\n",
       "       1., 1., 1., 1., 1., 1., 1., 1., 1., 1., 1., 1., 1., 1., 1., 1., 1.,\n",
       "       1., 1., 1., 1., 1., 1., 1., 1., 1., 1., 1., 1., 1., 1., 1., 1., 1.,\n",
       "       1., 1., 1., 1., 1., 1., 1., 1., 1., 1., 1., 1., 1., 1., 1., 1., 1.,\n",
       "       1., 1., 1., 1., 1., 1., 1., 1., 1., 1., 1., 1., 1., 1., 1., 1., 1.,\n",
       "       1., 1., 1., 1., 1., 1., 1., 1., 1., 1., 1., 1., 1., 1., 1., 1., 1.,\n",
       "       1., 1., 1., 1., 1., 1., 1., 1., 1., 1., 1., 1., 1., 1., 1., 1., 1.,\n",
       "       1., 1., 1., 1., 1., 1., 1., 1., 1., 1., 1., 1., 1., 1., 1., 1., 1.,\n",
       "       1., 1., 1., 1., 1., 1., 1., 0., 0., 0., 0., 0., 0., 0., 0., 0., 0.,\n",
       "       0., 0., 0., 0., 0., 0., 0., 0., 0., 0., 0., 0., 0., 0., 0., 0., 0.,\n",
       "       0., 0., 0., 0., 0., 0., 0., 0., 0., 0., 0., 0., 0., 0., 0., 0., 0.,\n",
       "       0., 0., 0., 0., 0., 0., 0., 0., 0., 0., 0., 0., 0., 0., 0., 0., 0.,\n",
       "       0., 0., 0., 0., 0., 0., 0., 0., 0., 0., 0., 0., 0., 0., 0., 0., 0.,\n",
       "       1., 0., 0., 0., 0., 0., 0., 0., 0., 0., 0., 0., 0., 0., 0., 0., 0.,\n",
       "       0., 0., 0., 0., 0., 0., 0., 0., 0., 0., 0., 0., 0., 0., 0., 0., 0.,\n",
       "       0., 0., 0., 0., 0., 0., 0., 0., 0., 0., 0., 0., 0., 0., 0., 0., 0.,\n",
       "       0., 0., 0., 0., 0., 0., 0., 0., 0., 0., 0., 0., 0., 0., 0., 0., 0.,\n",
       "       0., 0., 0., 0., 0., 0., 0., 0., 0., 0., 0., 0., 0., 0., 0., 0., 0.,\n",
       "       0., 0., 0., 0., 0., 0., 0., 0., 0., 0., 0., 0., 0., 0., 0., 0., 0.,\n",
       "       0., 0., 0., 0., 0., 0., 0., 0., 0., 0., 0., 0., 0., 0., 0., 0., 0.,\n",
       "       0., 0., 0., 0., 0., 0., 0., 0., 0., 0., 0., 0., 0., 0., 1., 0., 0.,\n",
       "       0., 0., 0., 0., 0., 0., 0., 0., 0., 0., 0., 0., 0., 0., 0., 0., 0.,\n",
       "       0., 0., 0., 0., 0., 0., 0., 0., 0., 0., 0., 0., 0., 0., 0., 0., 0.,\n",
       "       0., 0., 0., 0., 0., 0., 0., 0., 0., 0., 0., 0., 0., 0., 0., 0., 0.,\n",
       "       0., 0., 0., 0., 0., 0., 0., 0., 0., 0., 0., 0., 0., 0., 0., 0., 0.,\n",
       "       0., 0., 0., 0., 0., 0., 0., 0., 0., 0., 0., 1., 0., 0., 0., 0., 0.,\n",
       "       0., 0., 0., 0., 0., 0., 0., 0., 0., 0., 0., 0., 0., 0., 0., 0., 0.,\n",
       "       0., 0., 0., 0., 0., 0., 0., 0., 0., 0., 0., 0., 0., 0., 0., 0., 0.,\n",
       "       0., 0., 0., 0., 0., 0., 0., 0., 0., 0., 0., 0., 0., 0., 0., 0., 0.,\n",
       "       0., 0., 0., 0., 0., 0., 0., 0., 0., 0., 0., 0., 0., 0., 0., 0., 0.,\n",
       "       0., 0., 0., 0., 0., 1., 0., 0., 0., 0., 0., 0., 0., 0., 0., 0., 0.,\n",
       "       0., 0., 1., 0., 0., 0., 0., 0., 0., 0., 0., 0., 0., 0., 0., 0., 0.,\n",
       "       0., 0., 0., 0., 0., 0., 0., 0., 0., 0., 0., 0., 0., 0., 0., 0., 0.,\n",
       "       0., 0., 0., 0., 0., 0., 0., 0., 0., 0., 0., 0., 0., 0., 0., 0., 0.,\n",
       "       0., 0., 0., 0., 0., 0., 0., 0., 0., 0., 0., 0., 0., 0., 0., 0., 0.,\n",
       "       0., 0., 0., 0., 0., 0., 0., 0., 0., 0., 0., 0., 0., 0., 0., 0., 0.,\n",
       "       0., 0., 0., 0., 0., 0., 0., 0., 0., 0., 0., 0., 0., 0., 0., 0., 0.,\n",
       "       0., 0., 0., 0., 0., 0., 0., 0., 0., 0., 0., 0., 0., 0., 0., 0., 0.,\n",
       "       0., 0., 0., 0., 0., 0.], dtype=float32)"
      ]
     },
     "execution_count": 20,
     "metadata": {},
     "output_type": "execute_result"
    }
   ],
   "source": [
    "predct.round()"
   ]
  },
  {
   "cell_type": "code",
   "execution_count": null,
   "id": "4ad37e1f",
   "metadata": {},
   "outputs": [],
   "source": []
  }
 ],
 "metadata": {
  "kernelspec": {
   "display_name": "Python 3 (ipykernel)",
   "language": "python",
   "name": "python3"
  },
  "language_info": {
   "codemirror_mode": {
    "name": "ipython",
    "version": 3
   },
   "file_extension": ".py",
   "mimetype": "text/x-python",
   "name": "python",
   "nbconvert_exporter": "python",
   "pygments_lexer": "ipython3",
   "version": "3.9.7"
  }
 },
 "nbformat": 4,
 "nbformat_minor": 5
}
