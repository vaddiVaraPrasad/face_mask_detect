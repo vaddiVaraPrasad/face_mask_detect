{
 "cells": [
  {
   "cell_type": "code",
   "execution_count": 1,
   "id": "8b7356fd",
   "metadata": {},
   "outputs": [],
   "source": [
    "import numpy as np\n",
    "import tensorflow as tf\n",
    "import cv2 as cv\n",
    "import os"
   ]
  },
  {
   "cell_type": "code",
   "execution_count": 2,
   "id": "d6af98ab",
   "metadata": {},
   "outputs": [],
   "source": [
    "dir_label_name = {0:\"WithOut_Mask\",\n",
    "                 1 : \"With_Mask\"}"
   ]
  },
  {
   "cell_type": "code",
   "execution_count": 3,
   "id": "13424c7b",
   "metadata": {},
   "outputs": [
    {
     "data": {
      "text/plain": [
       "<keras.engine.sequential.Sequential at 0x212fe7a47c0>"
      ]
     },
     "execution_count": 3,
     "metadata": {},
     "output_type": "execute_result"
    }
   ],
   "source": [
    "model = tf.keras.models.load_model(\"face_mask_model.h5\")\n",
    "model"
   ]
  },
  {
   "cell_type": "markdown",
   "id": "279c2467",
   "metadata": {},
   "source": [
    "for viedo test ...run below cell"
   ]
  },
  {
   "cell_type": "code",
   "execution_count": 5,
   "id": "cebfc0e1",
   "metadata": {},
   "outputs": [
    {
     "name": "stdout",
     "output_type": "stream",
     "text": [
      "intruped \n"
     ]
    }
   ],
   "source": [
    "cascade = cv.CascadeClassifier(\"haarcascade_frontalface_default.xml\")\n",
    "offset = 0\n",
    "cap = cv.VideoCapture(0)\n",
    "while cap.isOpened():\n",
    "    __ , frame = cap.read()\n",
    "    if __ is True:\n",
    "        co_oridi = cascade.detectMultiScale(frame,1.3,5)\n",
    "        if len(co_oridi) == 0:\n",
    "            continue\n",
    "        for x,y,w,h in co_oridi:\n",
    "            short_img = frame[y-offset:y+h+offset,x-offset:x+w+offset]\n",
    "            short_img = cv.resize(short_img,dsize=(27,27),interpolation=cv.INTER_CUBIC)\n",
    "            short_img = short_img/255\n",
    "            short_img = np.reshape(short_img,(1,short_img.shape[0],short_img.shape[1],short_img.shape[2]))\n",
    "            predict_num = model.predict(short_img)\n",
    "            predict_num = np.reshape(predict_num,(predict_num.shape[0])).round()\n",
    "            name = dir_label_name[int(predict_num)]\n",
    "            if int(predict_num) == 1:\n",
    "                cv.rectangle(frame,pt1=(x,y),pt2=(x+w,y+h),color=(0,255,127),thickness=1)\n",
    "                cv.putText(frame,text=name,org=(x,y-10),fontFace=cv.FONT_ITALIC,fontScale=.8,color=(0,255,0),thickness=2)\n",
    "            else:\n",
    "                cv.rectangle(frame,pt1=(x,y),pt2=(x+w,y+h),color=(0,69,255),thickness=2)\n",
    "                cv.putText(frame,text=name,org=(x,y-10),fontFace=cv.FONT_ITALIC,fontScale=.8,color=(0,69,255),thickness=2)\n",
    "#             cv.rectangle(frame,pt1=(x,y),pt2=(x+w,y+h),color=(150,100,100),thickness=2)\n",
    "#             cv.putText(frame,text=name,org=(x,y-10),fontFace=cv.FONT_ITALIC,fontScale=.8,color=(200,0,200),thickness=2)\n",
    "        cv.imshow(\"frame\",frame)\n",
    "        if cv.waitKey(20) & 0xFF == 27:\n",
    "            print(\"intruped \")\n",
    "            break\n",
    "else:\n",
    "    print(\"error in asseeing ....web cam\")\n",
    "cap.release()\n",
    "cv.destroyAllWindows()"
   ]
  },
  {
   "cell_type": "code",
   "execution_count": null,
   "id": "5c020e84",
   "metadata": {},
   "outputs": [],
   "source": []
  }
 ],
 "metadata": {
  "kernelspec": {
   "display_name": "Python 3 (ipykernel)",
   "language": "python",
   "name": "python3"
  },
  "language_info": {
   "codemirror_mode": {
    "name": "ipython",
    "version": 3
   },
   "file_extension": ".py",
   "mimetype": "text/x-python",
   "name": "python",
   "nbconvert_exporter": "python",
   "pygments_lexer": "ipython3",
   "version": "3.9.7"
  }
 },
 "nbformat": 4,
 "nbformat_minor": 5
}
